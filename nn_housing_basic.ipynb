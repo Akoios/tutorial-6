{
 "cells": [
  {
   "cell_type": "markdown",
   "metadata": {},
   "source": [
    "# Housing price prediction using Neural Networks"
   ]
  },
  {
   "cell_type": "markdown",
   "metadata": {},
   "source": [
    "```yaml\n",
    "titan: v1\n",
    "service:\n",
    "  image: tensorflow\n",
    "  machine:\n",
    "    cpu: 2\n",
    "    memory: 2048MB\n",
    "```"
   ]
  },
  {
   "cell_type": "code",
   "execution_count": 125,
   "metadata": {},
   "outputs": [],
   "source": [
    "import pandas as pd\n",
    "from sklearn import preprocessing\n",
    "import tensorflow\n",
    "from tensorflow import keras\n",
    "from keras.models import Sequential\n",
    "from keras.layers import Dense\n",
    "import matplotlib.pyplot as plt\n",
    "from keras.layers import Dropout\n",
    "from keras import regularizers\n",
    "from sklearn.model_selection import train_test_split\n",
    "import numpy as np\n",
    "import json"
   ]
  },
  {
   "cell_type": "code",
   "execution_count": 126,
   "metadata": {},
   "outputs": [],
   "source": [
    "url = 'https://raw.githubusercontent.com/josephlee94/intuitive-deep-learning/master/Part%201%3A%20Predicting%20House%20Prices/housepricedata.csv'\n",
    "df = pd.read_csv(url)"
   ]
  },
  {
   "cell_type": "markdown",
   "metadata": {},
   "source": [
    "The dataset that we have now is in what we call a pandas dataframe. To convert it to an array, simply access its values:"
   ]
  },
  {
   "cell_type": "code",
   "execution_count": 127,
   "metadata": {},
   "outputs": [],
   "source": [
    "dataset = df.values"
   ]
  },
  {
   "cell_type": "markdown",
   "metadata": {},
   "source": [
    "Now, we split the dataset into our input features and the label we wish to predict."
   ]
  },
  {
   "cell_type": "code",
   "execution_count": 128,
   "metadata": {},
   "outputs": [],
   "source": [
    "X = dataset[:,0:10]\n",
    "Y = dataset[:,10]"
   ]
  },
  {
   "cell_type": "markdown",
   "metadata": {},
   "source": [
    "Normalizing our data is very important, as we want the input features to be on the same order of magnitude to make our training easier. We'll use a min-max scaler from scikit-learn which scales our data to be between 0 and 1."
   ]
  },
  {
   "cell_type": "code",
   "execution_count": 129,
   "metadata": {},
   "outputs": [
    {
     "name": "stderr",
     "output_type": "stream",
     "text": [
      "/anaconda3/lib/python3.7/site-packages/sklearn/utils/validation.py:595: DataConversionWarning: Data with input dtype int64 was converted to float64 by MinMaxScaler.\n",
      "  warnings.warn(msg, DataConversionWarning)\n"
     ]
    }
   ],
   "source": [
    "min_max_scaler = preprocessing.MinMaxScaler()\n",
    "X_scale = min_max_scaler.fit_transform(X)"
   ]
  },
  {
   "cell_type": "markdown",
   "metadata": {},
   "source": [
    "Lastly, we wish to set aside some parts of our dataset for a validation set and a test set. We use the function train_test_split from scikit-learn to do that."
   ]
  },
  {
   "cell_type": "code",
   "execution_count": 130,
   "metadata": {},
   "outputs": [],
   "source": [
    "X_train, X_val_and_test, Y_train, Y_val_and_test = train_test_split(X_scale, Y, test_size=0.3)"
   ]
  },
  {
   "cell_type": "code",
   "execution_count": 131,
   "metadata": {},
   "outputs": [],
   "source": [
    "X_val, X_test, Y_val, Y_test = train_test_split(X_val_and_test, Y_val_and_test, test_size=0.5)"
   ]
  },
  {
   "cell_type": "code",
   "execution_count": 132,
   "metadata": {},
   "outputs": [
    {
     "name": "stdout",
     "output_type": "stream",
     "text": [
      "(1022, 10) (219, 10) (219, 10) (1022,) (219,) (219,)\n"
     ]
    }
   ],
   "source": [
    "print(X_train.shape, X_val.shape, X_test.shape, Y_train.shape, Y_val.shape, Y_test.shape)"
   ]
  },
  {
   "cell_type": "code",
   "execution_count": 134,
   "metadata": {},
   "outputs": [
    {
     "name": "stdout",
     "output_type": "stream",
     "text": [
      "Train on 1022 samples, validate on 219 samples\n",
      "Epoch 1/100\n",
      "1022/1022 [==============================] - 1s 959us/step - loss: 0.5932 - accuracy: 0.7446 - val_loss: 0.4235 - val_accuracy: 0.8447\n",
      "Epoch 2/100\n",
      "1022/1022 [==============================] - 0s 103us/step - loss: 0.3897 - accuracy: 0.8366 - val_loss: 0.3749 - val_accuracy: 0.8493\n",
      "Epoch 3/100\n",
      "1022/1022 [==============================] - 0s 119us/step - loss: 0.3524 - accuracy: 0.8503 - val_loss: 0.3044 - val_accuracy: 0.8813\n",
      "Epoch 4/100\n",
      "1022/1022 [==============================] - 0s 116us/step - loss: 0.3205 - accuracy: 0.8650 - val_loss: 0.2987 - val_accuracy: 0.8858\n",
      "Epoch 5/100\n",
      "1022/1022 [==============================] - 0s 118us/step - loss: 0.2977 - accuracy: 0.8845 - val_loss: 0.2863 - val_accuracy: 0.8630\n",
      "Epoch 6/100\n",
      "1022/1022 [==============================] - 0s 107us/step - loss: 0.2830 - accuracy: 0.8875 - val_loss: 0.2905 - val_accuracy: 0.8767\n",
      "Epoch 7/100\n",
      "1022/1022 [==============================] - 0s 118us/step - loss: 0.2933 - accuracy: 0.8787 - val_loss: 0.3201 - val_accuracy: 0.8676\n",
      "Epoch 8/100\n",
      "1022/1022 [==============================] - 0s 115us/step - loss: 0.2771 - accuracy: 0.8816 - val_loss: 0.2748 - val_accuracy: 0.8858\n",
      "Epoch 9/100\n",
      "1022/1022 [==============================] - 0s 116us/step - loss: 0.2484 - accuracy: 0.8904 - val_loss: 0.2897 - val_accuracy: 0.8721\n",
      "Epoch 10/100\n",
      "1022/1022 [==============================] - 0s 114us/step - loss: 0.2501 - accuracy: 0.8933 - val_loss: 0.2672 - val_accuracy: 0.8950\n",
      "Epoch 11/100\n",
      "1022/1022 [==============================] - 0s 103us/step - loss: 0.2360 - accuracy: 0.9061 - val_loss: 0.2743 - val_accuracy: 0.9041\n",
      "Epoch 12/100\n",
      "1022/1022 [==============================] - 0s 117us/step - loss: 0.2809 - accuracy: 0.8816 - val_loss: 0.3063 - val_accuracy: 0.8813\n",
      "Epoch 13/100\n",
      "1022/1022 [==============================] - 0s 116us/step - loss: 0.2527 - accuracy: 0.9051 - val_loss: 0.2679 - val_accuracy: 0.8904\n",
      "Epoch 14/100\n",
      "1022/1022 [==============================] - 0s 118us/step - loss: 0.2333 - accuracy: 0.9051 - val_loss: 0.2746 - val_accuracy: 0.9041\n",
      "Epoch 15/100\n",
      "1022/1022 [==============================] - 0s 105us/step - loss: 0.2308 - accuracy: 0.9080 - val_loss: 0.2679 - val_accuracy: 0.8904\n",
      "Epoch 16/100\n",
      "1022/1022 [==============================] - 0s 117us/step - loss: 0.2249 - accuracy: 0.9100 - val_loss: 0.2687 - val_accuracy: 0.8950\n",
      "Epoch 17/100\n",
      "1022/1022 [==============================] - 0s 115us/step - loss: 0.2359 - accuracy: 0.9031 - val_loss: 0.2633 - val_accuracy: 0.8950\n",
      "Epoch 18/100\n",
      "1022/1022 [==============================] - 0s 121us/step - loss: 0.2202 - accuracy: 0.9110 - val_loss: 0.2666 - val_accuracy: 0.8904\n",
      "Epoch 19/100\n",
      "1022/1022 [==============================] - 0s 118us/step - loss: 0.2266 - accuracy: 0.9217 - val_loss: 0.3082 - val_accuracy: 0.8676\n",
      "Epoch 20/100\n",
      "1022/1022 [==============================] - 0s 104us/step - loss: 0.2308 - accuracy: 0.8973 - val_loss: 0.2628 - val_accuracy: 0.8950\n",
      "Epoch 21/100\n",
      "1022/1022 [==============================] - 0s 123us/step - loss: 0.2144 - accuracy: 0.9188 - val_loss: 0.2619 - val_accuracy: 0.8950\n",
      "Epoch 22/100\n",
      "1022/1022 [==============================] - 0s 114us/step - loss: 0.2090 - accuracy: 0.9168 - val_loss: 0.2598 - val_accuracy: 0.8950\n",
      "Epoch 23/100\n",
      "1022/1022 [==============================] - 0s 118us/step - loss: 0.2045 - accuracy: 0.9129 - val_loss: 0.2634 - val_accuracy: 0.8904\n",
      "Epoch 24/100\n",
      "1022/1022 [==============================] - 0s 103us/step - loss: 0.2026 - accuracy: 0.9188 - val_loss: 0.2832 - val_accuracy: 0.8858\n",
      "Epoch 25/100\n",
      "1022/1022 [==============================] - 0s 115us/step - loss: 0.2136 - accuracy: 0.9119 - val_loss: 0.2646 - val_accuracy: 0.8858\n",
      "Epoch 26/100\n",
      "1022/1022 [==============================] - 0s 121us/step - loss: 0.2002 - accuracy: 0.9198 - val_loss: 0.2646 - val_accuracy: 0.8950\n",
      "Epoch 27/100\n",
      "1022/1022 [==============================] - 0s 128us/step - loss: 0.1972 - accuracy: 0.9188 - val_loss: 0.2676 - val_accuracy: 0.9041\n",
      "Epoch 28/100\n",
      "1022/1022 [==============================] - 0s 126us/step - loss: 0.2064 - accuracy: 0.9247 - val_loss: 0.2753 - val_accuracy: 0.8995\n",
      "Epoch 29/100\n",
      "1022/1022 [==============================] - 0s 121us/step - loss: 0.2244 - accuracy: 0.9041 - val_loss: 0.2769 - val_accuracy: 0.8904\n",
      "Epoch 30/100\n",
      "1022/1022 [==============================] - 0s 109us/step - loss: 0.2063 - accuracy: 0.9198 - val_loss: 0.3060 - val_accuracy: 0.8676\n",
      "Epoch 31/100\n",
      "1022/1022 [==============================] - 0s 123us/step - loss: 0.2594 - accuracy: 0.8953 - val_loss: 0.2796 - val_accuracy: 0.8721\n",
      "Epoch 32/100\n",
      "1022/1022 [==============================] - 0s 127us/step - loss: 0.2011 - accuracy: 0.9207 - val_loss: 0.2544 - val_accuracy: 0.8950\n",
      "Epoch 33/100\n",
      "1022/1022 [==============================] - 0s 118us/step - loss: 0.1928 - accuracy: 0.9198 - val_loss: 0.2595 - val_accuracy: 0.8858\n",
      "Epoch 34/100\n",
      "1022/1022 [==============================] - 0s 122us/step - loss: 0.1842 - accuracy: 0.9217 - val_loss: 0.2715 - val_accuracy: 0.8813\n",
      "Epoch 35/100\n",
      "1022/1022 [==============================] - 0s 113us/step - loss: 0.2025 - accuracy: 0.9178 - val_loss: 0.2603 - val_accuracy: 0.9087\n",
      "Epoch 36/100\n",
      "1022/1022 [==============================] - 0s 113us/step - loss: 0.1854 - accuracy: 0.9276 - val_loss: 0.2681 - val_accuracy: 0.8858\n",
      "Epoch 37/100\n",
      "1022/1022 [==============================] - 0s 115us/step - loss: 0.1818 - accuracy: 0.9217 - val_loss: 0.2926 - val_accuracy: 0.8904\n",
      "Epoch 38/100\n",
      "1022/1022 [==============================] - 0s 119us/step - loss: 0.2097 - accuracy: 0.9139 - val_loss: 0.2622 - val_accuracy: 0.8904\n",
      "Epoch 39/100\n",
      "1022/1022 [==============================] - 0s 118us/step - loss: 0.1816 - accuracy: 0.9247 - val_loss: 0.2558 - val_accuracy: 0.8904\n",
      "Epoch 40/100\n",
      "1022/1022 [==============================] - 0s 107us/step - loss: 0.1882 - accuracy: 0.9178 - val_loss: 0.2805 - val_accuracy: 0.8950\n",
      "Epoch 41/100\n",
      "1022/1022 [==============================] - 0s 124us/step - loss: 0.1872 - accuracy: 0.9295 - val_loss: 0.2734 - val_accuracy: 0.8813\n",
      "Epoch 42/100\n",
      "1022/1022 [==============================] - 0s 116us/step - loss: 0.1859 - accuracy: 0.9207 - val_loss: 0.2743 - val_accuracy: 0.8904\n",
      "Epoch 43/100\n",
      "1022/1022 [==============================] - 0s 112us/step - loss: 0.1736 - accuracy: 0.9286 - val_loss: 0.2683 - val_accuracy: 0.8904\n",
      "Epoch 44/100\n",
      "1022/1022 [==============================] - 0s 100us/step - loss: 0.1732 - accuracy: 0.9364 - val_loss: 0.2705 - val_accuracy: 0.9132\n",
      "Epoch 45/100\n",
      "1022/1022 [==============================] - 0s 114us/step - loss: 0.1996 - accuracy: 0.9100 - val_loss: 0.2732 - val_accuracy: 0.8904\n",
      "Epoch 46/100\n",
      "1022/1022 [==============================] - 0s 111us/step - loss: 0.1873 - accuracy: 0.9247 - val_loss: 0.2627 - val_accuracy: 0.9087\n",
      "Epoch 47/100\n",
      "1022/1022 [==============================] - 0s 112us/step - loss: 0.1964 - accuracy: 0.9217 - val_loss: 0.2657 - val_accuracy: 0.8858\n",
      "Epoch 48/100\n",
      "1022/1022 [==============================] - 0s 122us/step - loss: 0.1857 - accuracy: 0.9188 - val_loss: 0.2648 - val_accuracy: 0.8950\n",
      "Epoch 49/100\n",
      "1022/1022 [==============================] - 0s 118us/step - loss: 0.1814 - accuracy: 0.9188 - val_loss: 0.3426 - val_accuracy: 0.8630\n",
      "Epoch 50/100\n",
      "1022/1022 [==============================] - 0s 129us/step - loss: 0.1827 - accuracy: 0.9217 - val_loss: 0.2621 - val_accuracy: 0.8995\n",
      "Epoch 51/100\n",
      "1022/1022 [==============================] - 0s 130us/step - loss: 0.1696 - accuracy: 0.9325 - val_loss: 0.2723 - val_accuracy: 0.8904\n",
      "Epoch 52/100\n",
      "1022/1022 [==============================] - 0s 136us/step - loss: 0.1725 - accuracy: 0.9325 - val_loss: 0.2974 - val_accuracy: 0.8813\n",
      "Epoch 53/100\n",
      "1022/1022 [==============================] - 0s 134us/step - loss: 0.1920 - accuracy: 0.9188 - val_loss: 0.3025 - val_accuracy: 0.8813\n",
      "Epoch 54/100\n",
      "1022/1022 [==============================] - 0s 139us/step - loss: 0.1773 - accuracy: 0.9295 - val_loss: 0.2617 - val_accuracy: 0.9041\n",
      "Epoch 55/100\n",
      "1022/1022 [==============================] - 0s 133us/step - loss: 0.1710 - accuracy: 0.9305 - val_loss: 0.2663 - val_accuracy: 0.9132\n",
      "Epoch 56/100\n",
      "1022/1022 [==============================] - 0s 138us/step - loss: 0.2028 - accuracy: 0.9129 - val_loss: 0.3262 - val_accuracy: 0.8813\n",
      "Epoch 57/100\n",
      "1022/1022 [==============================] - 0s 139us/step - loss: 0.1829 - accuracy: 0.9247 - val_loss: 0.2692 - val_accuracy: 0.8995\n",
      "Epoch 58/100\n",
      "1022/1022 [==============================] - 0s 142us/step - loss: 0.1665 - accuracy: 0.9354 - val_loss: 0.2726 - val_accuracy: 0.8813\n",
      "Epoch 59/100\n",
      "1022/1022 [==============================] - 0s 132us/step - loss: 0.1729 - accuracy: 0.9276 - val_loss: 0.3069 - val_accuracy: 0.8813\n",
      "Epoch 60/100\n",
      "1022/1022 [==============================] - 0s 117us/step - loss: 0.1739 - accuracy: 0.9237 - val_loss: 0.2696 - val_accuracy: 0.8858\n",
      "Epoch 61/100\n",
      "1022/1022 [==============================] - 0s 129us/step - loss: 0.1701 - accuracy: 0.9315 - val_loss: 0.2774 - val_accuracy: 0.8858\n",
      "Epoch 62/100\n",
      "1022/1022 [==============================] - 0s 134us/step - loss: 0.1650 - accuracy: 0.9364 - val_loss: 0.2702 - val_accuracy: 0.8950\n",
      "Epoch 63/100\n",
      "1022/1022 [==============================] - 0s 132us/step - loss: 0.1688 - accuracy: 0.9305 - val_loss: 0.2730 - val_accuracy: 0.8813\n",
      "Epoch 64/100\n",
      "1022/1022 [==============================] - 0s 131us/step - loss: 0.1546 - accuracy: 0.9325 - val_loss: 0.2769 - val_accuracy: 0.9041\n",
      "Epoch 65/100\n",
      "1022/1022 [==============================] - 0s 130us/step - loss: 0.1714 - accuracy: 0.9335 - val_loss: 0.3003 - val_accuracy: 0.8858\n",
      "Epoch 66/100\n",
      "1022/1022 [==============================] - 0s 129us/step - loss: 0.1672 - accuracy: 0.9354 - val_loss: 0.2920 - val_accuracy: 0.8858\n",
      "Epoch 67/100\n",
      "1022/1022 [==============================] - 0s 127us/step - loss: 0.1567 - accuracy: 0.9344 - val_loss: 0.3058 - val_accuracy: 0.8767\n",
      "Epoch 68/100\n",
      "1022/1022 [==============================] - 0s 114us/step - loss: 0.1651 - accuracy: 0.9335 - val_loss: 0.2896 - val_accuracy: 0.8904\n",
      "Epoch 69/100\n",
      "1022/1022 [==============================] - 0s 124us/step - loss: 0.1754 - accuracy: 0.9315 - val_loss: 0.2826 - val_accuracy: 0.8813\n",
      "Epoch 70/100\n",
      "1022/1022 [==============================] - 0s 127us/step - loss: 0.1504 - accuracy: 0.9374 - val_loss: 0.2989 - val_accuracy: 0.8767\n",
      "Epoch 71/100\n",
      "1022/1022 [==============================] - 0s 127us/step - loss: 0.1495 - accuracy: 0.9423 - val_loss: 0.3202 - val_accuracy: 0.8904\n",
      "Epoch 72/100\n",
      "1022/1022 [==============================] - 0s 127us/step - loss: 0.1542 - accuracy: 0.9393 - val_loss: 0.2881 - val_accuracy: 0.8858\n",
      "Epoch 73/100\n",
      "1022/1022 [==============================] - 0s 128us/step - loss: 0.1574 - accuracy: 0.9315 - val_loss: 0.2918 - val_accuracy: 0.8813\n",
      "Epoch 74/100\n",
      "1022/1022 [==============================] - 0s 134us/step - loss: 0.1475 - accuracy: 0.9432 - val_loss: 0.2996 - val_accuracy: 0.8995\n",
      "Epoch 75/100\n",
      "1022/1022 [==============================] - 0s 127us/step - loss: 0.1590 - accuracy: 0.9315 - val_loss: 0.3056 - val_accuracy: 0.8721\n",
      "Epoch 76/100\n",
      "1022/1022 [==============================] - 0s 113us/step - loss: 0.1510 - accuracy: 0.9374 - val_loss: 0.3064 - val_accuracy: 0.8950\n",
      "Epoch 77/100\n",
      "1022/1022 [==============================] - 0s 126us/step - loss: 0.1482 - accuracy: 0.9364 - val_loss: 0.2927 - val_accuracy: 0.8904\n",
      "Epoch 78/100\n",
      "1022/1022 [==============================] - 0s 131us/step - loss: 0.1505 - accuracy: 0.9374 - val_loss: 0.3138 - val_accuracy: 0.8676\n",
      "Epoch 79/100\n",
      "1022/1022 [==============================] - 0s 134us/step - loss: 0.1364 - accuracy: 0.9462 - val_loss: 0.3149 - val_accuracy: 0.8813\n",
      "Epoch 80/100\n",
      "1022/1022 [==============================] - 0s 137us/step - loss: 0.1427 - accuracy: 0.9442 - val_loss: 0.3079 - val_accuracy: 0.8995\n",
      "Epoch 81/100\n",
      "1022/1022 [==============================] - 0s 133us/step - loss: 0.1430 - accuracy: 0.9472 - val_loss: 0.3094 - val_accuracy: 0.8813\n",
      "Epoch 82/100\n",
      "1022/1022 [==============================] - 0s 134us/step - loss: 0.1500 - accuracy: 0.9423 - val_loss: 0.3112 - val_accuracy: 0.8813\n",
      "Epoch 83/100\n",
      "1022/1022 [==============================] - 0s 141us/step - loss: 0.1487 - accuracy: 0.9462 - val_loss: 0.3151 - val_accuracy: 0.8721\n",
      "Epoch 84/100\n",
      "1022/1022 [==============================] - 0s 134us/step - loss: 0.1421 - accuracy: 0.9403 - val_loss: 0.3000 - val_accuracy: 0.8904\n",
      "Epoch 85/100\n",
      "1022/1022 [==============================] - 0s 121us/step - loss: 0.1348 - accuracy: 0.9511 - val_loss: 0.3261 - val_accuracy: 0.8813\n",
      "Epoch 86/100\n",
      "1022/1022 [==============================] - 0s 134us/step - loss: 0.1466 - accuracy: 0.9403 - val_loss: 0.3418 - val_accuracy: 0.8721\n",
      "Epoch 87/100\n",
      "1022/1022 [==============================] - 0s 142us/step - loss: 0.1524 - accuracy: 0.9374 - val_loss: 0.2982 - val_accuracy: 0.8904\n",
      "Epoch 88/100\n",
      "1022/1022 [==============================] - 0s 128us/step - loss: 0.1620 - accuracy: 0.9354 - val_loss: 0.3084 - val_accuracy: 0.8767\n",
      "Epoch 89/100\n",
      "1022/1022 [==============================] - 0s 126us/step - loss: 0.1500 - accuracy: 0.9374 - val_loss: 0.3043 - val_accuracy: 0.8767\n",
      "Epoch 90/100\n",
      "1022/1022 [==============================] - 0s 126us/step - loss: 0.1383 - accuracy: 0.9521 - val_loss: 0.3630 - val_accuracy: 0.8630\n",
      "Epoch 91/100\n",
      "1022/1022 [==============================] - 0s 131us/step - loss: 0.1356 - accuracy: 0.9462 - val_loss: 0.3199 - val_accuracy: 0.8767\n",
      "Epoch 92/100\n",
      "1022/1022 [==============================] - 0s 134us/step - loss: 0.1306 - accuracy: 0.9491 - val_loss: 0.3196 - val_accuracy: 0.8767\n",
      "Epoch 93/100\n",
      "1022/1022 [==============================] - 0s 122us/step - loss: 0.1256 - accuracy: 0.9550 - val_loss: 0.3343 - val_accuracy: 0.8813\n",
      "Epoch 94/100\n",
      "1022/1022 [==============================] - 0s 118us/step - loss: 0.1326 - accuracy: 0.9423 - val_loss: 0.3577 - val_accuracy: 0.8721\n",
      "Epoch 95/100\n",
      "1022/1022 [==============================] - 0s 131us/step - loss: 0.1292 - accuracy: 0.9481 - val_loss: 0.3240 - val_accuracy: 0.8950\n",
      "Epoch 96/100\n",
      "1022/1022 [==============================] - 0s 133us/step - loss: 0.1323 - accuracy: 0.9413 - val_loss: 0.3582 - val_accuracy: 0.8858\n",
      "Epoch 97/100\n",
      "1022/1022 [==============================] - 0s 133us/step - loss: 0.1391 - accuracy: 0.9423 - val_loss: 0.3139 - val_accuracy: 0.8904\n",
      "Epoch 98/100\n",
      "1022/1022 [==============================] - 0s 136us/step - loss: 0.1277 - accuracy: 0.9491 - val_loss: 0.3708 - val_accuracy: 0.8584\n",
      "Epoch 99/100\n",
      "1022/1022 [==============================] - 0s 138us/step - loss: 0.1352 - accuracy: 0.9452 - val_loss: 0.3537 - val_accuracy: 0.8813\n",
      "Epoch 100/100\n",
      "1022/1022 [==============================] - 0s 129us/step - loss: 0.1391 - accuracy: 0.9442 - val_loss: 0.3452 - val_accuracy: 0.8721\n"
     ]
    }
   ],
   "source": [
    "model = Sequential([\n",
    "    Dense(100, activation='relu', input_shape=(10,)),\n",
    "    Dense(100, activation='relu'),\n",
    "    Dense(100, activation='relu'),\n",
    "    Dense(100, activation='relu'),\n",
    "    Dense(1, activation='sigmoid'),\n",
    "])\n",
    "model.compile(optimizer='adam',\n",
    "              loss='binary_crossentropy',\n",
    "              metrics=['accuracy'])\n",
    "hist = model.fit(X_train, Y_train,\n",
    "          batch_size=32, epochs=100,\n",
    "          validation_data=(X_val, Y_val))"
   ]
  },
  {
   "cell_type": "code",
   "execution_count": 90,
   "metadata": {},
   "outputs": [],
   "source": [
    "model.compile(optimizer='sgd',\n",
    "              loss='binary_crossentropy',\n",
    "              metrics=['accuracy'])"
   ]
  },
  {
   "cell_type": "code",
   "execution_count": 91,
   "metadata": {},
   "outputs": [
    {
     "name": "stdout",
     "output_type": "stream",
     "text": [
      "Train on 1022 samples, validate on 219 samples\n",
      "Epoch 1/100\n",
      "1022/1022 [==============================] - 1s 511us/step - loss: 0.6957 - accuracy: 0.4785 - val_loss: 0.6920 - val_accuracy: 0.4612\n",
      "Epoch 2/100\n",
      "1022/1022 [==============================] - 0s 47us/step - loss: 0.6880 - accuracy: 0.5068 - val_loss: 0.6868 - val_accuracy: 0.4749\n",
      "Epoch 3/100\n",
      "1022/1022 [==============================] - 0s 44us/step - loss: 0.6832 - accuracy: 0.5391 - val_loss: 0.6833 - val_accuracy: 0.5023\n",
      "Epoch 4/100\n",
      "1022/1022 [==============================] - 0s 44us/step - loss: 0.6795 - accuracy: 0.5431 - val_loss: 0.6800 - val_accuracy: 0.5251\n",
      "Epoch 5/100\n",
      "1022/1022 [==============================] - 0s 57us/step - loss: 0.6762 - accuracy: 0.5587 - val_loss: 0.6768 - val_accuracy: 0.5525\n",
      "Epoch 6/100\n",
      "1022/1022 [==============================] - 0s 46us/step - loss: 0.6729 - accuracy: 0.5861 - val_loss: 0.6737 - val_accuracy: 0.5936\n",
      "Epoch 7/100\n",
      "1022/1022 [==============================] - 0s 42us/step - loss: 0.6697 - accuracy: 0.6067 - val_loss: 0.6706 - val_accuracy: 0.6256\n",
      "Epoch 8/100\n",
      "1022/1022 [==============================] - 0s 45us/step - loss: 0.6664 - accuracy: 0.6194 - val_loss: 0.6673 - val_accuracy: 0.6393\n",
      "Epoch 9/100\n",
      "1022/1022 [==============================] - 0s 49us/step - loss: 0.6631 - accuracy: 0.6468 - val_loss: 0.6639 - val_accuracy: 0.6667\n",
      "Epoch 10/100\n",
      "1022/1022 [==============================] - 0s 43us/step - loss: 0.6597 - accuracy: 0.6673 - val_loss: 0.6603 - val_accuracy: 0.6712\n",
      "Epoch 11/100\n",
      "1022/1022 [==============================] - 0s 44us/step - loss: 0.6560 - accuracy: 0.6840 - val_loss: 0.6565 - val_accuracy: 0.6941\n",
      "Epoch 12/100\n",
      "1022/1022 [==============================] - 0s 43us/step - loss: 0.6523 - accuracy: 0.6977 - val_loss: 0.6524 - val_accuracy: 0.7215\n",
      "Epoch 13/100\n",
      "1022/1022 [==============================] - 0s 46us/step - loss: 0.6483 - accuracy: 0.7211 - val_loss: 0.6481 - val_accuracy: 0.7352\n",
      "Epoch 14/100\n",
      "1022/1022 [==============================] - 0s 45us/step - loss: 0.6443 - accuracy: 0.7436 - val_loss: 0.6436 - val_accuracy: 0.7443\n",
      "Epoch 15/100\n",
      "1022/1022 [==============================] - 0s 46us/step - loss: 0.6397 - accuracy: 0.7661 - val_loss: 0.6390 - val_accuracy: 0.7580\n",
      "Epoch 16/100\n",
      "1022/1022 [==============================] - 0s 45us/step - loss: 0.6350 - accuracy: 0.7564 - val_loss: 0.6338 - val_accuracy: 0.7900\n",
      "Epoch 17/100\n",
      "1022/1022 [==============================] - 0s 45us/step - loss: 0.6301 - accuracy: 0.7759 - val_loss: 0.6285 - val_accuracy: 0.7900\n",
      "Epoch 18/100\n",
      "1022/1022 [==============================] - 0s 44us/step - loss: 0.6248 - accuracy: 0.7779 - val_loss: 0.6229 - val_accuracy: 0.7945\n",
      "Epoch 19/100\n",
      "1022/1022 [==============================] - 0s 45us/step - loss: 0.6194 - accuracy: 0.7828 - val_loss: 0.6169 - val_accuracy: 0.7945\n",
      "Epoch 20/100\n",
      "1022/1022 [==============================] - 0s 51us/step - loss: 0.6135 - accuracy: 0.7955 - val_loss: 0.6107 - val_accuracy: 0.7991\n",
      "Epoch 21/100\n",
      "1022/1022 [==============================] - 0s 45us/step - loss: 0.6072 - accuracy: 0.7955 - val_loss: 0.6041 - val_accuracy: 0.8082\n",
      "Epoch 22/100\n",
      "1022/1022 [==============================] - 0s 46us/step - loss: 0.6008 - accuracy: 0.8014 - val_loss: 0.5972 - val_accuracy: 0.8037\n",
      "Epoch 23/100\n",
      "1022/1022 [==============================] - 0s 48us/step - loss: 0.5941 - accuracy: 0.8063 - val_loss: 0.5899 - val_accuracy: 0.8174\n",
      "Epoch 24/100\n",
      "1022/1022 [==============================] - 0s 49us/step - loss: 0.5870 - accuracy: 0.8072 - val_loss: 0.5823 - val_accuracy: 0.8265\n",
      "Epoch 25/100\n",
      "1022/1022 [==============================] - 0s 50us/step - loss: 0.5795 - accuracy: 0.8112 - val_loss: 0.5744 - val_accuracy: 0.8311\n",
      "Epoch 26/100\n",
      "1022/1022 [==============================] - 0s 48us/step - loss: 0.5720 - accuracy: 0.8180 - val_loss: 0.5664 - val_accuracy: 0.8311\n",
      "Epoch 27/100\n",
      "1022/1022 [==============================] - 0s 49us/step - loss: 0.5640 - accuracy: 0.8190 - val_loss: 0.5581 - val_accuracy: 0.8493\n",
      "Epoch 28/100\n",
      "1022/1022 [==============================] - 0s 48us/step - loss: 0.5562 - accuracy: 0.8258 - val_loss: 0.5497 - val_accuracy: 0.8539\n",
      "Epoch 29/100\n",
      "1022/1022 [==============================] - 0s 46us/step - loss: 0.5478 - accuracy: 0.8317 - val_loss: 0.5412 - val_accuracy: 0.8447\n",
      "Epoch 30/100\n",
      "1022/1022 [==============================] - 0s 45us/step - loss: 0.5394 - accuracy: 0.8395 - val_loss: 0.5325 - val_accuracy: 0.8493\n",
      "Epoch 31/100\n",
      "1022/1022 [==============================] - 0s 45us/step - loss: 0.5310 - accuracy: 0.8258 - val_loss: 0.5234 - val_accuracy: 0.8493\n",
      "Epoch 32/100\n",
      "1022/1022 [==============================] - 0s 44us/step - loss: 0.5221 - accuracy: 0.8425 - val_loss: 0.5142 - val_accuracy: 0.8493\n",
      "Epoch 33/100\n",
      "1022/1022 [==============================] - 0s 44us/step - loss: 0.5134 - accuracy: 0.8464 - val_loss: 0.5052 - val_accuracy: 0.8493\n",
      "Epoch 34/100\n",
      "1022/1022 [==============================] - 0s 45us/step - loss: 0.5047 - accuracy: 0.8434 - val_loss: 0.4957 - val_accuracy: 0.8584\n",
      "Epoch 35/100\n",
      "1022/1022 [==============================] - 0s 46us/step - loss: 0.4958 - accuracy: 0.8503 - val_loss: 0.4863 - val_accuracy: 0.8630\n",
      "Epoch 36/100\n",
      "1022/1022 [==============================] - 0s 52us/step - loss: 0.4870 - accuracy: 0.8474 - val_loss: 0.4770 - val_accuracy: 0.8630\n",
      "Epoch 37/100\n",
      "1022/1022 [==============================] - 0s 54us/step - loss: 0.4782 - accuracy: 0.8493 - val_loss: 0.4679 - val_accuracy: 0.8539\n",
      "Epoch 38/100\n",
      "1022/1022 [==============================] - 0s 51us/step - loss: 0.4696 - accuracy: 0.8562 - val_loss: 0.4592 - val_accuracy: 0.8630\n",
      "Epoch 39/100\n",
      "1022/1022 [==============================] - 0s 53us/step - loss: 0.4612 - accuracy: 0.8532 - val_loss: 0.4502 - val_accuracy: 0.8539\n",
      "Epoch 40/100\n",
      "1022/1022 [==============================] - 0s 50us/step - loss: 0.4529 - accuracy: 0.8542 - val_loss: 0.4415 - val_accuracy: 0.8539\n",
      "Epoch 41/100\n",
      "1022/1022 [==============================] - 0s 48us/step - loss: 0.4446 - accuracy: 0.8601 - val_loss: 0.4331 - val_accuracy: 0.8493\n",
      "Epoch 42/100\n",
      "1022/1022 [==============================] - 0s 45us/step - loss: 0.4370 - accuracy: 0.8650 - val_loss: 0.4250 - val_accuracy: 0.8539\n",
      "Epoch 43/100\n",
      "1022/1022 [==============================] - 0s 43us/step - loss: 0.4289 - accuracy: 0.8669 - val_loss: 0.4170 - val_accuracy: 0.8493\n",
      "Epoch 44/100\n",
      "1022/1022 [==============================] - 0s 42us/step - loss: 0.4215 - accuracy: 0.8659 - val_loss: 0.4098 - val_accuracy: 0.8676\n",
      "Epoch 45/100\n",
      "1022/1022 [==============================] - 0s 44us/step - loss: 0.4147 - accuracy: 0.8669 - val_loss: 0.4024 - val_accuracy: 0.8584\n",
      "Epoch 46/100\n",
      "1022/1022 [==============================] - 0s 47us/step - loss: 0.4077 - accuracy: 0.8699 - val_loss: 0.3956 - val_accuracy: 0.8676\n",
      "Epoch 47/100\n",
      "1022/1022 [==============================] - 0s 44us/step - loss: 0.4015 - accuracy: 0.8689 - val_loss: 0.3884 - val_accuracy: 0.8447\n",
      "Epoch 48/100\n",
      "1022/1022 [==============================] - 0s 47us/step - loss: 0.3952 - accuracy: 0.8689 - val_loss: 0.3823 - val_accuracy: 0.8447\n",
      "Epoch 49/100\n",
      "1022/1022 [==============================] - 0s 50us/step - loss: 0.3898 - accuracy: 0.8718 - val_loss: 0.3764 - val_accuracy: 0.8493\n",
      "Epoch 50/100\n",
      "1022/1022 [==============================] - 0s 50us/step - loss: 0.3835 - accuracy: 0.8669 - val_loss: 0.3706 - val_accuracy: 0.8539\n",
      "Epoch 51/100\n",
      "1022/1022 [==============================] - 0s 49us/step - loss: 0.3789 - accuracy: 0.8708 - val_loss: 0.3651 - val_accuracy: 0.8447\n",
      "Epoch 52/100\n",
      "1022/1022 [==============================] - 0s 48us/step - loss: 0.3737 - accuracy: 0.8708 - val_loss: 0.3600 - val_accuracy: 0.8447\n",
      "Epoch 53/100\n",
      "1022/1022 [==============================] - 0s 50us/step - loss: 0.3690 - accuracy: 0.8689 - val_loss: 0.3554 - val_accuracy: 0.8493\n",
      "Epoch 54/100\n",
      "1022/1022 [==============================] - 0s 50us/step - loss: 0.3645 - accuracy: 0.8728 - val_loss: 0.3509 - val_accuracy: 0.8539\n",
      "Epoch 55/100\n",
      "1022/1022 [==============================] - 0s 47us/step - loss: 0.3607 - accuracy: 0.8718 - val_loss: 0.3464 - val_accuracy: 0.8539\n",
      "Epoch 56/100\n",
      "1022/1022 [==============================] - 0s 45us/step - loss: 0.3568 - accuracy: 0.8748 - val_loss: 0.3424 - val_accuracy: 0.8584\n",
      "Epoch 57/100\n",
      "1022/1022 [==============================] - 0s 45us/step - loss: 0.3533 - accuracy: 0.8718 - val_loss: 0.3385 - val_accuracy: 0.8584\n",
      "Epoch 58/100\n",
      "1022/1022 [==============================] - 0s 42us/step - loss: 0.3496 - accuracy: 0.8748 - val_loss: 0.3352 - val_accuracy: 0.8584\n",
      "Epoch 59/100\n",
      "1022/1022 [==============================] - 0s 44us/step - loss: 0.3463 - accuracy: 0.8728 - val_loss: 0.3314 - val_accuracy: 0.8539\n",
      "Epoch 60/100\n",
      "1022/1022 [==============================] - 0s 52us/step - loss: 0.3431 - accuracy: 0.8738 - val_loss: 0.3281 - val_accuracy: 0.8584\n",
      "Epoch 61/100\n",
      "1022/1022 [==============================] - 0s 50us/step - loss: 0.3401 - accuracy: 0.8767 - val_loss: 0.3251 - val_accuracy: 0.8539\n",
      "Epoch 62/100\n",
      "1022/1022 [==============================] - 0s 48us/step - loss: 0.3373 - accuracy: 0.8796 - val_loss: 0.3226 - val_accuracy: 0.8721\n",
      "Epoch 63/100\n",
      "1022/1022 [==============================] - 0s 43us/step - loss: 0.3351 - accuracy: 0.8787 - val_loss: 0.3198 - val_accuracy: 0.8721\n",
      "Epoch 64/100\n",
      "1022/1022 [==============================] - 0s 45us/step - loss: 0.3321 - accuracy: 0.8777 - val_loss: 0.3166 - val_accuracy: 0.8539\n",
      "Epoch 65/100\n",
      "1022/1022 [==============================] - 0s 45us/step - loss: 0.3299 - accuracy: 0.8777 - val_loss: 0.3150 - val_accuracy: 0.8721\n",
      "Epoch 66/100\n",
      "1022/1022 [==============================] - 0s 47us/step - loss: 0.3276 - accuracy: 0.8757 - val_loss: 0.3120 - val_accuracy: 0.8721\n",
      "Epoch 67/100\n",
      "1022/1022 [==============================] - 0s 47us/step - loss: 0.3255 - accuracy: 0.8816 - val_loss: 0.3093 - val_accuracy: 0.8630\n",
      "Epoch 68/100\n",
      "1022/1022 [==============================] - 0s 47us/step - loss: 0.3242 - accuracy: 0.8777 - val_loss: 0.3071 - val_accuracy: 0.8630\n",
      "Epoch 69/100\n",
      "1022/1022 [==============================] - 0s 47us/step - loss: 0.3215 - accuracy: 0.8767 - val_loss: 0.3051 - val_accuracy: 0.8813\n",
      "Epoch 70/100\n",
      "1022/1022 [==============================] - 0s 45us/step - loss: 0.3200 - accuracy: 0.8806 - val_loss: 0.3035 - val_accuracy: 0.8721\n",
      "Epoch 71/100\n",
      "1022/1022 [==============================] - 0s 45us/step - loss: 0.3182 - accuracy: 0.8796 - val_loss: 0.3010 - val_accuracy: 0.8813\n",
      "Epoch 72/100\n",
      "1022/1022 [==============================] - 0s 46us/step - loss: 0.3166 - accuracy: 0.8787 - val_loss: 0.2992 - val_accuracy: 0.8813\n",
      "Epoch 73/100\n",
      "1022/1022 [==============================] - 0s 44us/step - loss: 0.3153 - accuracy: 0.8816 - val_loss: 0.2974 - val_accuracy: 0.8813\n",
      "Epoch 74/100\n",
      "1022/1022 [==============================] - 0s 48us/step - loss: 0.3134 - accuracy: 0.8796 - val_loss: 0.2960 - val_accuracy: 0.8721\n",
      "Epoch 75/100\n",
      "1022/1022 [==============================] - 0s 44us/step - loss: 0.3119 - accuracy: 0.8767 - val_loss: 0.2938 - val_accuracy: 0.8904\n",
      "Epoch 76/100\n",
      "1022/1022 [==============================] - 0s 43us/step - loss: 0.3107 - accuracy: 0.8806 - val_loss: 0.2923 - val_accuracy: 0.8904\n",
      "Epoch 77/100\n",
      "1022/1022 [==============================] - 0s 42us/step - loss: 0.3090 - accuracy: 0.8777 - val_loss: 0.2923 - val_accuracy: 0.8813\n",
      "Epoch 78/100\n",
      "1022/1022 [==============================] - 0s 44us/step - loss: 0.3085 - accuracy: 0.8806 - val_loss: 0.2890 - val_accuracy: 0.8950\n",
      "Epoch 79/100\n",
      "1022/1022 [==============================] - 0s 44us/step - loss: 0.3072 - accuracy: 0.8816 - val_loss: 0.2877 - val_accuracy: 0.8904\n",
      "Epoch 80/100\n",
      "1022/1022 [==============================] - 0s 42us/step - loss: 0.3058 - accuracy: 0.8816 - val_loss: 0.2862 - val_accuracy: 0.8950\n",
      "Epoch 81/100\n",
      "1022/1022 [==============================] - 0s 50us/step - loss: 0.3045 - accuracy: 0.8816 - val_loss: 0.2848 - val_accuracy: 0.8950\n",
      "Epoch 82/100\n",
      "1022/1022 [==============================] - 0s 46us/step - loss: 0.3031 - accuracy: 0.8826 - val_loss: 0.2837 - val_accuracy: 0.8904\n",
      "Epoch 83/100\n",
      "1022/1022 [==============================] - 0s 45us/step - loss: 0.3025 - accuracy: 0.8826 - val_loss: 0.2844 - val_accuracy: 0.8904\n",
      "Epoch 84/100\n",
      "1022/1022 [==============================] - 0s 44us/step - loss: 0.3017 - accuracy: 0.8855 - val_loss: 0.2807 - val_accuracy: 0.8950\n",
      "Epoch 85/100\n",
      "1022/1022 [==============================] - 0s 53us/step - loss: 0.3002 - accuracy: 0.8836 - val_loss: 0.2803 - val_accuracy: 0.8950\n",
      "Epoch 86/100\n",
      "1022/1022 [==============================] - 0s 44us/step - loss: 0.2995 - accuracy: 0.8836 - val_loss: 0.2789 - val_accuracy: 0.8950\n",
      "Epoch 87/100\n",
      "1022/1022 [==============================] - 0s 43us/step - loss: 0.2983 - accuracy: 0.8836 - val_loss: 0.2772 - val_accuracy: 0.8950\n",
      "Epoch 88/100\n",
      "1022/1022 [==============================] - 0s 43us/step - loss: 0.2980 - accuracy: 0.8855 - val_loss: 0.2758 - val_accuracy: 0.8904\n",
      "Epoch 89/100\n",
      "1022/1022 [==============================] - 0s 43us/step - loss: 0.2968 - accuracy: 0.8836 - val_loss: 0.2747 - val_accuracy: 0.8904\n",
      "Epoch 90/100\n",
      "1022/1022 [==============================] - 0s 42us/step - loss: 0.2961 - accuracy: 0.8836 - val_loss: 0.2736 - val_accuracy: 0.8904\n",
      "Epoch 91/100\n",
      "1022/1022 [==============================] - 0s 43us/step - loss: 0.2952 - accuracy: 0.8865 - val_loss: 0.2733 - val_accuracy: 0.8950\n",
      "Epoch 92/100\n",
      "1022/1022 [==============================] - 0s 44us/step - loss: 0.2940 - accuracy: 0.8836 - val_loss: 0.2725 - val_accuracy: 0.8950\n",
      "Epoch 93/100\n",
      "1022/1022 [==============================] - 0s 48us/step - loss: 0.2933 - accuracy: 0.8826 - val_loss: 0.2705 - val_accuracy: 0.8950\n",
      "Epoch 94/100\n",
      "1022/1022 [==============================] - 0s 43us/step - loss: 0.2921 - accuracy: 0.8865 - val_loss: 0.2691 - val_accuracy: 0.8904\n",
      "Epoch 95/100\n",
      "1022/1022 [==============================] - 0s 45us/step - loss: 0.2919 - accuracy: 0.8875 - val_loss: 0.2683 - val_accuracy: 0.8904\n",
      "Epoch 96/100\n",
      "1022/1022 [==============================] - 0s 63us/step - loss: 0.2907 - accuracy: 0.8875 - val_loss: 0.2678 - val_accuracy: 0.9041\n",
      "Epoch 97/100\n",
      "1022/1022 [==============================] - 0s 44us/step - loss: 0.2907 - accuracy: 0.8865 - val_loss: 0.2667 - val_accuracy: 0.9041\n",
      "Epoch 98/100\n",
      "1022/1022 [==============================] - 0s 44us/step - loss: 0.2890 - accuracy: 0.8875 - val_loss: 0.2654 - val_accuracy: 0.8950\n",
      "Epoch 99/100\n",
      "1022/1022 [==============================] - 0s 43us/step - loss: 0.2890 - accuracy: 0.8836 - val_loss: 0.2643 - val_accuracy: 0.8904\n",
      "Epoch 100/100\n",
      "1022/1022 [==============================] - 0s 45us/step - loss: 0.2873 - accuracy: 0.8875 - val_loss: 0.2633 - val_accuracy: 0.8904\n"
     ]
    }
   ],
   "source": [
    "hist = model.fit(X_train, Y_train,\n",
    "          batch_size=32, epochs=100,\n",
    "          validation_data=(X_val, Y_val))"
   ]
  },
  {
   "cell_type": "markdown",
   "metadata": {},
   "source": [
    "Evaluating our data on the test set:"
   ]
  },
  {
   "cell_type": "code",
   "execution_count": 135,
   "metadata": {},
   "outputs": [
    {
     "name": "stdout",
     "output_type": "stream",
     "text": [
      "219/219 [==============================] - 0s 45us/step\n",
      "Model Loss is 0.25629456089511854 \n"
     ]
    }
   ],
   "source": [
    "# GET /loss \n",
    "print(\"Model Loss is {} \".format(model.evaluate(X_test, Y_test)[0]))"
   ]
  },
  {
   "cell_type": "code",
   "execution_count": 136,
   "metadata": {},
   "outputs": [
    {
     "name": "stdout",
     "output_type": "stream",
     "text": [
      "219/219 [==============================] - 0s 48us/step\n",
      "Model Accuracy is 0.8995434045791626 \n"
     ]
    }
   ],
   "source": [
    "# GET /accuracy \n",
    "print(\"Model Accuracy is {} \".format(model.evaluate(X_test, Y_test)[1]))"
   ]
  },
  {
   "cell_type": "code",
   "execution_count": 139,
   "metadata": {},
   "outputs": [
    {
     "data": {
      "image/png": "[encoded data removed]",
      "text/plain": [
       "<Figure size 432x288 with 1 Axes>"
      ]
     },
     "metadata": {
      "needs_background": "light"
     },
     "output_type": "display_data"
    }
   ],
   "source": [
    "plt.plot(hist.history['loss'])\n",
    "plt.plot(hist.history['val_loss'])\n",
    "plt.title('Model loss')\n",
    "plt.ylabel('Loss')\n",
    "plt.xlabel('Epoch')\n",
    "plt.legend(['Train', 'Val'], loc='upper right')\n",
    "plt.show()"
   ]
  },
  {
   "cell_type": "code",
   "execution_count": 137,
   "metadata": {},
   "outputs": [],
   "source": [
    "# Mock request object for local API testing\n",
    "headers = {\n",
    "'content-type': 'application/json'\n",
    "}\n",
    "body = json.dumps({\n",
    "  \"data\": [[0.08994835,0.96666667,0.625,0.1294599,0.66666667,0.5,0.375,0.41666667,0.33333333,0.38222849]]\n",
    "})\n",
    "REQUEST = json.dumps({ 'headers': headers, 'body': body })"
   ]
  },
  {
   "cell_type": "code",
   "execution_count": 138,
   "metadata": {},
   "outputs": [
    {
     "data": {
      "text/plain": [
       "array([[0.9997205]], dtype=float32)"
      ]
     },
     "execution_count": 138,
     "metadata": {},
     "output_type": "execute_result"
    }
   ],
   "source": [
    "# POST /prediction\n",
    "body = json.loads(REQUEST)['body']\n",
    "input_params = json.loads(body)['data']\n",
    "input_array = np.array(input_params)\n",
    "model.predict(input_array) \n"
   ]
  },
  {
   "cell_type": "code",
   "execution_count": null,
   "metadata": {},
   "outputs": [],
   "source": []
  }
 ],
 "metadata": {
  "kernelspec": {
   "display_name": "Python 3",
   "language": "python",
   "name": "python3"
  },
  "language_info": {
   "codemirror_mode": {
    "name": "ipython",
    "version": 3
   },
   "file_extension": ".py",
   "mimetype": "text/x-python",
   "name": "python",
   "nbconvert_exporter": "python",
   "pygments_lexer": "ipython3",
   "version": "3.7.1"
  }
 },
 "nbformat": 4,
 "nbformat_minor": 2
}
